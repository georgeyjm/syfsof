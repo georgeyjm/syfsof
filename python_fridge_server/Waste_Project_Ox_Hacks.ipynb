{
 "cells": [
  {
   "cell_type": "code",
   "execution_count": 3,
   "metadata": {},
   "outputs": [],
   "source": [
    "#App Structure, with Flask\n",
    "from flask import Flask\n",
    "app = Flask(__name__)\n",
    "@app.route(\"/\")\n",
    "def hello_world():\n",
    "    return \"<p>Hello, World!</p>\""
   ]
  },
  {
   "cell_type": "code",
   "execution_count": null,
   "metadata": {
    "scrolled": true
   },
   "outputs": [],
   "source": []
  },
  {
   "cell_type": "code",
   "execution_count": null,
   "metadata": {},
   "outputs": [],
   "source": []
  },
  {
   "cell_type": "code",
   "execution_count": 11,
   "metadata": {},
   "outputs": [],
   "source": []
  },
  {
   "cell_type": "code",
   "execution_count": 4,
   "metadata": {},
   "outputs": [
    {
     "name": "stdout",
     "output_type": "stream",
     "text": [
      "Directory changed\n"
     ]
    }
   ],
   "source": [
    "#TryingToCreateJson\n",
    "\n",
    "import os\n",
    "os.chdir(r\"/Users/Z PL/Desktop/foodwaste\")\n",
    " \n",
    "print(\"Directory changed\")\n",
    "\n",
    "import json\n",
    "\n",
    "dictionary_test = {\n",
    "    \"name\":\"Banana\",\n",
    "    \"DaysToExpire\":5\n",
    "}\n",
    "\n",
    "json_obj = json.dumps(dictionary_test, indent=3)\n",
    "\n",
    "with open(\"prosample.json\",'w') as outfile:\n",
    "    outfile.write(json_obj )\n"
   ]
  },
  {
   "cell_type": "code",
   "execution_count": 30,
   "metadata": {},
   "outputs": [
    {
     "name": "stdout",
     "output_type": "stream",
     "text": [
      "[{'Name': 'Banana', 'ProductionDate': '2022-11-20', 'ExpirationDate': '2022-12-20', 'OriginalFrom': 'BornPlace1', 'Storage_Condition': '', 'Additionals': ''}, {'Name': 'Apple', 'ProductionDate': '2019-05-20', 'ExpirationDate': '2019-06-20', 'OriginalFrom': 'BornPlace2', 'Storage_Condition': '', 'Additionals': ''}, {'Name': 'Orange', 'ProductionDate': '2023-12-20', 'ExpirationDate': '2024-12-20', 'OriginalFrom': 'BornPlace3', 'Storage_Condition': '', 'Additionals': ''}]\n",
      "<class 'list'>\n"
     ]
    }
   ],
   "source": [
    "#Read Our QR_Code\n",
    "import json\n",
    "\n",
    "with open('QRCode.json','r') as openfile:\n",
    "    json_obj=json.load(openfile)\n",
    "\n",
    "print(json_obj)\n",
    "print(type(json_obj))\n",
    "\n"
   ]
  },
  {
   "cell_type": "code",
   "execution_count": 6,
   "metadata": {},
   "outputs": [
    {
     "ename": "KeyError",
     "evalue": "'DaysToExpire'",
     "output_type": "error",
     "traceback": [
      "\u001b[1;31m---------------------------------------------------------------------------\u001b[0m",
      "\u001b[1;31mKeyError\u001b[0m                                  Traceback (most recent call last)",
      "Cell \u001b[1;32mIn [6], line 7\u001b[0m\n\u001b[0;32m      2\u001b[0m \u001b[39mdef\u001b[39;00m \u001b[39mmyFunc\u001b[39m(e):\n\u001b[0;32m      3\u001b[0m     \u001b[39m#calculate days to expire\u001b[39;00m\n\u001b[0;32m      5\u001b[0m   \u001b[39mreturn\u001b[39;00m e[\u001b[39m'\u001b[39m\u001b[39mDaysToExpire\u001b[39m\u001b[39m'\u001b[39m]\n\u001b[1;32m----> 7\u001b[0m json_obj\u001b[39m.\u001b[39;49msort(key\u001b[39m=\u001b[39;49mmyFunc)\n\u001b[0;32m      9\u001b[0m \u001b[39mprint\u001b[39m(json_obj)\n",
      "Cell \u001b[1;32mIn [6], line 5\u001b[0m, in \u001b[0;36mmyFunc\u001b[1;34m(e)\u001b[0m\n\u001b[0;32m      2\u001b[0m \u001b[39mdef\u001b[39;00m \u001b[39mmyFunc\u001b[39m(e):\n\u001b[0;32m      3\u001b[0m     \u001b[39m#calculate days to expire\u001b[39;00m\n\u001b[1;32m----> 5\u001b[0m   \u001b[39mreturn\u001b[39;00m e[\u001b[39m'\u001b[39;49m\u001b[39mDaysToExpire\u001b[39;49m\u001b[39m'\u001b[39;49m]\n",
      "\u001b[1;31mKeyError\u001b[0m: 'DaysToExpire'"
     ]
    }
   ],
   "source": [
    "# #Rank The Food\n",
    "# def myFunc(e):\n",
    "#     #calculate days to expire\n",
    "    \n",
    "#   return e['DaysToExpire']\n",
    "\n",
    "# json_obj.sort(key=myFunc)\n",
    "\n",
    "# print(json_obj)"
   ]
  },
  {
   "cell_type": "code",
   "execution_count": 8,
   "metadata": {},
   "outputs": [
    {
     "name": "stdout",
     "output_type": "stream",
     "text": [
      "Sat Nov 12 19:04:14 2022\n",
      "2019\n",
      "5\n",
      "30\n",
      "2019\n",
      "5\n",
      "30\n",
      "The number of days between May 30, 2019 and December 31, 2023 is 1676.\n"
     ]
    }
   ],
   "source": [
    "#Expiration Date Change Every Day\n",
    "\n",
    "#Get_Current_Time\n",
    "import time\n",
    "from datetime import date\n",
    "\n",
    "current_time = time.ctime()\n",
    "print(current_time)\n",
    "\n",
    "#DaysToExpire=\n",
    "\n",
    "#date.fromisoformat(json_obj[:,\"ProductionDate\"])\n",
    "\n",
    "\n",
    "# Instatiate two dates\n",
    "a = int(json_obj[1][\"ProductionDate\"][0:4])\n",
    "print(a)\n",
    "\n",
    "b =int(json_obj[1][\"ProductionDate\"][5:7])\n",
    "print(b)\n",
    "\n",
    "c =int(json_obj[1][\"ProductionDate\"][8:10])\n",
    "print(c)\n",
    "\n",
    "first_date = date(a,b,c)\n",
    "\n",
    "d = int(json_obj[2][\"ProductionDate\"][0:4])\n",
    "print(a)\n",
    "\n",
    "e =int(json_obj[2][\"ProductionDate\"][5:7])\n",
    "print(b)\n",
    "\n",
    "f =int(json_obj[2][\"ProductionDate\"][8:10])\n",
    "print(c)\n",
    "\n",
    "second_date = date(d,e,f)\n",
    "\n",
    "# Difference between two dates\n",
    "date_diff = second_date - first_date\n",
    "# Function to convert datetime to string\n",
    "def dt_string(date, date_format=\"%B %d, %Y\"):\n",
    "   return date.strftime(date_format)\n",
    "\n",
    "print(f\"The number of days between {dt_string(first_date)} and {dt_string(second_date)} is {(date_diff).days}.\")\n"
   ]
  },
  {
   "cell_type": "code",
   "execution_count": 9,
   "metadata": {},
   "outputs": [
    {
     "ename": "TypeError",
     "evalue": "Tuple or struct_time argument required",
     "output_type": "error",
     "traceback": [
      "\u001b[1;31m---------------------------------------------------------------------------\u001b[0m",
      "\u001b[1;31mTypeError\u001b[0m                                 Traceback (most recent call last)",
      "Cell \u001b[1;32mIn [9], line 7\u001b[0m\n\u001b[0;32m      3\u001b[0m \u001b[39mfrom\u001b[39;00m \u001b[39mdatetime\u001b[39;00m \u001b[39mimport\u001b[39;00m datetime\n\u001b[0;32m      5\u001b[0m now \u001b[39m=\u001b[39m datetime\u001b[39m.\u001b[39mnow()\n\u001b[1;32m----> 7\u001b[0m current_Time \u001b[39m=\u001b[39m time\u001b[39m.\u001b[39;49mstrftime(\u001b[39m\"\u001b[39;49m\u001b[39m%\u001b[39;49m\u001b[39mH:\u001b[39;49m\u001b[39m%\u001b[39;49m\u001b[39mM:\u001b[39;49m\u001b[39m%\u001b[39;49m\u001b[39mS\u001b[39;49m\u001b[39m\"\u001b[39;49m, now)\n",
      "\u001b[1;31mTypeError\u001b[0m: Tuple or struct_time argument required"
     ]
    }
   ],
   "source": [
    "# #Output the notification\n",
    "\n",
    "# from datetime import datetime\n",
    "\n",
    "# now = datetime.now()\n",
    "\n",
    "# current_Time = time.strftime(\"%H:%M:%S\", now)\n"
   ]
  },
  {
   "cell_type": "code",
   "execution_count": 10,
   "metadata": {},
   "outputs": [
    {
     "ename": "TypeError",
     "evalue": "list indices must be integers or slices, not tuple",
     "output_type": "error",
     "traceback": [
      "\u001b[1;31m---------------------------------------------------------------------------\u001b[0m",
      "\u001b[1;31mTypeError\u001b[0m                                 Traceback (most recent call last)",
      "Cell \u001b[1;32mIn [10], line 11\u001b[0m\n\u001b[0;32m      5\u001b[0m     \u001b[39mreturn\u001b[39;00m new_list\n\u001b[0;32m      7\u001b[0m \u001b[39m#tuple_1 = (1, 2, 3, 4, 5)\u001b[39;00m\n\u001b[0;32m      8\u001b[0m \u001b[39m#print(tuple_to_list(tuple_1))\u001b[39;00m\n\u001b[0;32m      9\u001b[0m \u001b[39m# [1, 2, 3, 4, 5]\u001b[39;00m\n\u001b[1;32m---> 11\u001b[0m date\u001b[39m.\u001b[39mfromisoformat(tuple_to_list(json_obj[\u001b[39m1\u001b[39;49m,\u001b[39m\"\u001b[39;49m\u001b[39mProductionDate\u001b[39;49m\u001b[39m\"\u001b[39;49m]))\n",
      "\u001b[1;31mTypeError\u001b[0m: list indices must be integers or slices, not tuple"
     ]
    }
   ],
   "source": [
    "def tuple_to_list(t):\n",
    "    new_list = []\n",
    "    for element in t:\n",
    "        new_list.append(element)\n",
    "    return new_list\n",
    "\n",
    "#tuple_1 = (1, 2, 3, 4, 5)\n",
    "#print(tuple_to_list(tuple_1))\n",
    "# [1, 2, 3, 4, 5]\n",
    "\n",
    "date.fromisoformat(tuple_to_list(json_obj[1,\"ProductionDate\"]))"
   ]
  },
  {
   "cell_type": "code",
   "execution_count": 45,
   "metadata": {},
   "outputs": [
    {
     "ename": "TypeError",
     "evalue": "list indices must be integers or slices, not tuple",
     "output_type": "error",
     "traceback": [
      "\u001b[0;31m---------------------------------------------------------------------------\u001b[0m",
      "\u001b[0;31mTypeError\u001b[0m                                 Traceback (most recent call last)",
      "\u001b[0;32m<ipython-input-45-405454bb093c>\u001b[0m in \u001b[0;36m<module>\u001b[0;34m\u001b[0m\n\u001b[0;32m----> 1\u001b[0;31m \u001b[0mjson_obj\u001b[0m\u001b[0;34m[\u001b[0m\u001b[0;36m1\u001b[0m\u001b[0;34m,\u001b[0m\u001b[0;34m\"ProductionDate\"\u001b[0m\u001b[0;34m]\u001b[0m\u001b[0;34m\u001b[0m\u001b[0;34m\u001b[0m\u001b[0m\n\u001b[0m",
      "\u001b[0;31mTypeError\u001b[0m: list indices must be integers or slices, not tuple"
     ]
    }
   ],
   "source": [
    "json_obj[1,\"ProductionDate\"]"
   ]
  },
  {
   "cell_type": "code",
   "execution_count": 11,
   "metadata": {},
   "outputs": [
    {
     "name": "stdout",
     "output_type": "stream",
     "text": [
      "2019\n",
      "5\n",
      "30\n",
      "2019\n",
      "5\n",
      "30\n"
     ]
    }
   ],
   "source": [
    "a = int(json_obj[1][\"ProductionDate\"][0:4])\n",
    "print(a)\n",
    "\n",
    "b =int(json_obj[1][\"ProductionDate\"][5:7])\n",
    "print(b)\n",
    "\n",
    "c =int(json_obj[1][\"ProductionDate\"][8:10])\n",
    "print(c)\n",
    "\n",
    "first_date = date(a,b,c)\n",
    "\n",
    "d = int(json_obj[2][\"ProductionDate\"][0:4])\n",
    "print(a)\n",
    "\n",
    "e =int(json_obj[2][\"ProductionDate\"][5:7])\n",
    "print(b)\n",
    "\n",
    "f =int(json_obj[2][\"ProductionDate\"][8:10])\n",
    "print(c)\n",
    "\n",
    "second_date = date(d,e,f)\n"
   ]
  },
  {
   "cell_type": "code",
   "execution_count": 73,
   "metadata": {},
   "outputs": [
    {
     "name": "stdout",
     "output_type": "stream",
     "text": [
      "2022\n",
      "12\n",
      "31\n"
     ]
    }
   ],
   "source": [
    "\n"
   ]
  },
  {
   "cell_type": "code",
   "execution_count": 113,
   "metadata": {},
   "outputs": [
    {
     "name": "stdout",
     "output_type": "stream",
     "text": [
      "[{'Name': 'Banana', 'ProductionDate': '2022-11-20', 'ExpirationDate': '2022-11-12', 'OriginalFrom': 'BornPlace1', 'Storage_Condition': '', 'Additionals': ''}, {'Name': 'Apple', 'ProductionDate': '2019-05-20', 'ExpirationDate': '2019-06-20', 'OriginalFrom': 'BornPlace2', 'Storage_Condition': '', 'Additionals': ''}, {'Name': 'Orange', 'ProductionDate': '2023-12-20', 'ExpirationDate': '2024-12-20', 'OriginalFrom': 'BornPlace3', 'Storage_Condition': '', 'Additionals': ''}]\n",
      "<class 'list'>\n"
     ]
    },
    {
     "data": {
      "text/plain": [
       "{'Banana': datetime.date(2022, 11, 12),\n",
       " 'Apple': datetime.date(2019, 6, 20),\n",
       " 'Orange': datetime.date(2024, 12, 20)}"
      ]
     },
     "execution_count": 113,
     "metadata": {},
     "output_type": "execute_result"
    }
   ],
   "source": [
    "#Load Data \n",
    "\n",
    "#Read Our QR_Code\n",
    "import json\n",
    "import time\n",
    "from datetime import date\n",
    "\n",
    "def readFile():\n",
    "    with open('QRCode.json','r') as openfile:\n",
    "        allInfo=json.load(openfile)\n",
    "    return allInfo\n",
    "\n",
    "print(readFile())\n",
    "print(type(readFile()))\n",
    "\n",
    "# convert string from JSON to TIME type and return the dict; It will read the file again\n",
    "def makeTime(all): #make string of dates into time type; production date is not yet useful so not converted\n",
    "    ExpirationDates = {}\n",
    "    for i in range(len(all)):\n",
    "        year =int(all[i][\"ExpirationDate\"][0:4])\n",
    "        month =int(all[i][\"ExpirationDate\"][5:7])\n",
    "        day =int(all[i][\"ExpirationDate\"][8:10])\n",
    "        Expiration_Date = date(year,month,day)\n",
    "        ExpirationDates[all[i][\"Name\"]] = Expiration_Date\n",
    "    return ExpirationDates\n",
    "makeTime(readFile())\n",
    "\n"
   ]
  },
  {
   "cell_type": "code",
   "execution_count": 114,
   "metadata": {},
   "outputs": [
    {
     "name": "stdout",
     "output_type": "stream",
     "text": [
      " Please Check your expiration date for \"Apple\"!\n"
     ]
    }
   ],
   "source": [
    "#Check data correctness\n",
    "# Todo or not; If production date is greater than now, it will return an alarm\n",
    "# Todo or not; if production date is graeter than expiration date, it will return an alarm\n",
    "# If expiration date is less than now, it will return an alarm\n",
    "# only use when first received data\n",
    "#TODO see below to improve\n",
    "def checkData(all2):\n",
    "    current_time = datetime.now()\n",
    "    Current_Time = date(current_time.year,current_time.month,current_time.day)\n",
    "    ExpirationDates = makeTime(all2)\n",
    "    for i in range(len(all2)):\n",
    "        Expiration_Date = ExpirationDates[all2[i][\"Name\"]] # find a way to take from dict to imporve?\n",
    "        if Expiration_Date < Current_Time:\n",
    "            print(\" Please Check your expiration date for \\\"\" + all2[i][\"Name\"] + \"\\\"!\")\n",
    "\n",
    "checkData(readFile())\n"
   ]
  },
  {
   "cell_type": "code",
   "execution_count": 115,
   "metadata": {},
   "outputs": [
    {
     "name": "stdout",
     "output_type": "stream",
     "text": [
      "[['Apple', -1241], ['Banana', 0], ['Orange', 769]]\n"
     ]
    }
   ],
   "source": [
    "#Calculate Expirations\n",
    "\n",
    "#Expiration = [[Name,DaysToExpire][xxx][xx]];\n",
    "\n",
    "#Calculate DaysToExpire\n",
    "\n",
    "\n",
    "def DaysToExpire (all3):\n",
    "    \n",
    "    current_time = datetime.now()\n",
    "    Current_Time = date(current_time.year,current_time.month,current_time.day)\n",
    "    ExpirationDDL=[]\n",
    "    ExpirationDates = makeTime(all3)\n",
    "    \n",
    "    for i in range(len(all3)):\n",
    "        # year = int(all_info[i][\"ExpirationDate\"][0:4])\n",
    "        # month =int(all_info[i][\"ExpirationDate\"][5:7])\n",
    "        # day =int(all_info[i][\"ExpirationDate\"][8:10])\n",
    "        # Expiration_Date = date(year,month,day)\n",
    "        # made a function makeTime()\n",
    "        Expiration_Date = ExpirationDates[all3[i][\"Name\"]]\n",
    "        DaysToExpire = Expiration_Date-Current_Time\n",
    "        ExpirationDDL.append([all3[i][\"Name\"],DaysToExpire.days])\n",
    "    ExpirationDDL.sort()\n",
    "        \n",
    "    return ExpirationDDL\n",
    "\n",
    "print(DaysToExpire (readFile()))"
   ]
  },
  {
   "cell_type": "code",
   "execution_count": 118,
   "metadata": {},
   "outputs": [
    {
     "name": "stdout",
     "output_type": "stream",
     "text": [
      "Your food \"Apple\" has already expired :( \n",
      "Your food \"Banana\" is expiring today! :O \n",
      "woohoooo\n"
     ]
    }
   ],
   "source": [
    "#probably not used anymore\n",
    "#Check already expired food and return message telling you expired one or expiring today\n",
    "def checkExp(dtexp): #dtexp means dateToExpire, pls use DaysToExpire(readFile()) as parameter.\n",
    "    for i in range(len(dtexp)):\n",
    "        if dtexp[i][1] < 0 :\n",
    "            print(\"Your food \\\"\" + dtexp[i][0] + \"\\\" has already expired :( \")\n",
    "        elif dtexp[i][1] == 0:\n",
    "            print(\"Your food \\\"\" + dtexp[i][0] + \"\\\" is expiring today! :O \")\n",
    "        else:\n",
    "            continue\n",
    "    print(\"woohoooo\")\n",
    "checkExp(DaysToExpire(readFile()))"
   ]
  },
  {
   "cell_type": "code",
   "execution_count": 52,
   "metadata": {},
   "outputs": [
    {
     "name": "stdout",
     "output_type": "stream",
     "text": [
      "2019\n",
      "5\n",
      "20\n",
      "2019-05-20\n"
     ]
    }
   ],
   "source": [
    "# Random Tests"
   ]
  },
  {
   "cell_type": "code",
   "execution_count": null,
   "metadata": {},
   "outputs": [],
   "source": [
    "#receive input and store in json\n",
    "\n",
    "#receive input of delete\n",
    "\n",
    "#build a server to receive and reply to request, for example add food"
   ]
  }
 ],
 "metadata": {
  "kernelspec": {
   "display_name": "Python 3.7.3 ('base')",
   "language": "python",
   "name": "python3"
  },
  "language_info": {
   "codemirror_mode": {
    "name": "ipython",
    "version": 3
   },
   "file_extension": ".py",
   "mimetype": "text/x-python",
   "name": "python",
   "nbconvert_exporter": "python",
   "pygments_lexer": "ipython3",
   "version": "3.7.3"
  },
  "vscode": {
   "interpreter": {
    "hash": "2180afad46845e9b089f91f220644f2a596593e6292b2dd07299c76d4aa69247"
   }
  }
 },
 "nbformat": 4,
 "nbformat_minor": 2
}
